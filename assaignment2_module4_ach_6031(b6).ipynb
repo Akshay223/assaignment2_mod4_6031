{
 "cells": [
  {
   "cell_type": "code",
   "execution_count": 41,
   "metadata": {},
   "outputs": [
    {
     "name": "stdout",
     "output_type": "stream",
     "text": [
      "original list\n",
      "[1, 2, 3, 4, 5]\n",
      "cloned list\n",
      "[1, 2, 3, 4, 5]\n"
     ]
    }
   ],
   "source": [
    "#Q1:\n",
    "print(\"original list\")\n",
    "a1=[1,2,3,4,5]\n",
    "print(a1)\n",
    "\n",
    "print(\"cloned list\")\n",
    "a2=a1[:]\n",
    "print(a2)\n",
    "\n",
    "\n",
    "\n",
    "\n",
    "\n"
   ]
  },
  {
   "cell_type": "code",
   "execution_count": 42,
   "metadata": {},
   "outputs": [
    {
     "name": "stdout",
     "output_type": "stream",
     "text": [
      "original print\n",
      "[1, 2, 3, 4, 5, 6, 7]\n",
      "after removing specified ele\n",
      "[2, 3, 4, 7]\n"
     ]
    }
   ],
   "source": [
    "#Q2:\n",
    "print(\"original print\")\n",
    "a1=[1,2,3,4,5,6,7]\n",
    "print(a1)\n",
    "a1.remove(1) #0th ele=1\n",
    "a1.remove(5) #4th ele=5\n",
    "a1.remove(6) #5th ele=6\n",
    "print(\"after removing specified ele\")\n",
    "print(a1)"
   ]
  },
  {
   "cell_type": "code",
   "execution_count": 48,
   "metadata": {},
   "outputs": [
    {
     "name": "stdout",
     "output_type": "stream",
     "text": [
      "original list\n",
      "[11, 12, 13, 14, 15, 16, 17, 18, 19, 110, 11, 12, 13, 14]\n",
      "after removing all even element\n",
      "[[11, 13, 15, 17, 19, 11, 13]]\n"
     ]
    }
   ],
   "source": [
    "#Q3:\n",
    "print(\"original list\")\n",
    "a1=[11,12,13,14,15,16,17,18,19,110,11,12,13,14]\n",
    "print(a1)\n",
    "a2=[]\n",
    "for i in a1:\n",
    "    if i%2==0:\n",
    "        a1.remove(i)\n",
    "    else:\n",
    "        a2.append(a1)\n",
    "print(\"after removing all even element\")        \n",
    "print(a2)        "
   ]
  },
  {
   "cell_type": "code",
   "execution_count": 54,
   "metadata": {},
   "outputs": [
    {
     "name": "stdout",
     "output_type": "stream",
     "text": [
      "original list\n",
      "[1, 1, 22, 22, 34, 45, 56, 23, 23, 12, 12, 67, 100]\n",
      "unique ele\n",
      "[1, 22, 34, 45, 56, 23, 12, 67, 100]\n"
     ]
    }
   ],
   "source": [
    "#Q4:\n",
    "print(\"original list\")\n",
    "print(a1)\n",
    "a1=[1,1,22,22,34,45,56,23,23,12,12,67,100]\n",
    "a2=[]\n",
    "for i in a1:\n",
    "    if i not in a2:\n",
    "        a2.append(i)\n",
    "print(\"unique ele\")        \n",
    "print(a2)        "
   ]
  },
  {
   "cell_type": "code",
   "execution_count": 59,
   "metadata": {},
   "outputs": [
    {
     "name": "stdout",
     "output_type": "stream",
     "text": [
      "number please9\n",
      "the number is within the range\n"
     ]
    }
   ],
   "source": [
    "#Q5:\n",
    "def ach(n):\n",
    "    if n in range(4,10):\n",
    "        print(\"the number is within the range\")\n",
    "    else:\n",
    "         print(\"the number is not within the range\")\n",
    "            \n",
    "n=int(input(\"number please\"))\n",
    "ach(n)\n",
    "        \n",
    "        \n",
    "    "
   ]
  },
  {
   "cell_type": "code",
   "execution_count": null,
   "metadata": {},
   "outputs": [],
   "source": [
    "#Q6:\n",
    "a1=input(\"enter ur sentence including some 'upper' and 'lower' letter: \")\n",
    "upper_letter=[]\n",
    "lower_letter=[]\n",
    "for i in range(len(a1)):\n",
    "    if ((ord(a1[i])) <= 65 and (ord(a1[i])>=122)):\n",
    "        upper_letter.append(i)\n",
    "    else:\n",
    "        ((ord(a1[i])) <= 95 and (ord(a1[i])>= 90))\n",
    "        lower_letter.append(i)\n",
    "print(\"the number of upper letters are : \",len(upper_letter))   \n",
    "print(\"the number of lower letters are : \",len(lower_letter))   \n"
   ]
  },
  {
   "cell_type": "code",
   "execution_count": null,
   "metadata": {},
   "outputs": [],
   "source": [
    "\n"
   ]
  },
  {
   "cell_type": "code",
   "execution_count": null,
   "metadata": {},
   "outputs": [],
   "source": []
  },
  {
   "cell_type": "code",
   "execution_count": null,
   "metadata": {},
   "outputs": [],
   "source": []
  },
  {
   "cell_type": "code",
   "execution_count": null,
   "metadata": {},
   "outputs": [],
   "source": []
  },
  {
   "cell_type": "code",
   "execution_count": null,
   "metadata": {},
   "outputs": [],
   "source": []
  }
 ],
 "metadata": {
  "kernelspec": {
   "display_name": "Python 3",
   "language": "python",
   "name": "python3"
  },
  "language_info": {
   "codemirror_mode": {
    "name": "ipython",
    "version": 3
   },
   "file_extension": ".py",
   "mimetype": "text/x-python",
   "name": "python",
   "nbconvert_exporter": "python",
   "pygments_lexer": "ipython3",
   "version": "3.7.7"
  }
 },
 "nbformat": 4,
 "nbformat_minor": 4
}
